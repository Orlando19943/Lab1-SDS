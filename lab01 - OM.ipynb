{
 "cells":[
  {
   "cell_type":"markdown",
   "source":[
    "Orlando Osberto Cabrera Mejía #19943  \n",
    "Pablo Alejandro Méndez Morales #19195\n",
    "\n",
    "# Laboratorio #1 - Detección de Phishing"
   ],
   "attachments":{
    
   },
   "metadata":{
    "datalore":{
     "node_id":"zQlackQ3CeK7yuiZw9cgYb",
     "type":"MD",
     "hide_input_from_viewers":false,
     "hide_output_from_viewers":false,
     "report_properties":{
      
     }
    }
   }
  },
  {
   "cell_type":"code",
   "source":[
    "import pandas as pd\n",
    "import re\n",
    "import numpy as np\n",
    "import seaborn as sns\n",
    "import matplotlib.pyplot as plt\n",
    "#from pandas_profiling import ProfileReport\n",
    "from sklearn.model_selection import train_test_split\n",
    "from sklearn.metrics import accuracy_score, confusion_matrix, classification_report, ConfusionMatrixDisplay\n",
    "from sklearn.ensemble import RandomForestClassifier\n",
    "from sklearn.tree import DecisionTreeClassifier"
   ],
   "execution_count":2,
   "outputs":[
    
   ],
   "metadata":{
    "datalore":{
     "node_id":"3oYmVxNsIRsdkIWFYaPkBR",
     "type":"CODE",
     "hide_input_from_viewers":false,
     "hide_output_from_viewers":false,
     "report_properties":{
      
     }
    }
   }
  },
  {
   "cell_type":"code",
   "source":[
    "%matplotlib inline"
   ],
   "execution_count":null,
   "outputs":[
    
   ],
   "metadata":{
    "datalore":{
     "node_id":"jfPZRvtmoQMsVEwwuON0SX",
     "type":"CODE",
     "hide_input_from_viewers":false,
     "hide_output_from_viewers":false,
     "report_properties":{
      
     }
    }
   }
  },
  {
   "cell_type":"markdown",
   "source":[
    "## Parte 1 - Ingeniería de Datos"
   ],
   "attachments":{
    
   },
   "metadata":{
    "datalore":{
     "node_id":"KLePVy8nWVE5pcWbtjHxzU",
     "type":"MD",
     "hide_input_from_viewers":false,
     "hide_output_from_viewers":false,
     "report_properties":{
      
     }
    }
   }
  },
  {
   "cell_type":"markdown",
   "source":[
    "### Exploración de Datos"
   ],
   "attachments":{
    
   },
   "metadata":{
    "datalore":{
     "node_id":"2TJUeeP4Mijx4VoeQ4bJ9o",
     "type":"MD",
     "hide_input_from_viewers":false,
     "hide_output_from_viewers":false,
     "report_properties":{
      
     }
    }
   }
  },
  {
   "cell_type":"markdown",
   "source":[
    "**1. Cargue el dataset en un dataframe de pandas, muestre un ejemplo de cinco observaciones.**"
   ],
   "attachments":{
    
   },
   "metadata":{
    "datalore":{
     "node_id":"2oeCWuOchCQizAIq6Z9nbB",
     "type":"MD",
     "hide_input_from_viewers":false,
     "hide_output_from_viewers":false,
     "report_properties":{
      
     }
    }
   }
  },
  {
   "cell_type":"code",
   "source":[
    "df = pd.read_csv(\"\/data\/workspace_files\/lab1\/dataset_pishing.csv\")\n",
    "#df = pd.read_csv(\".\/dataset_pishing.csv\")\n",
    "df.head(5)"
   ],
   "execution_count":5,
   "outputs":[
    {
     "data":{
      "text\/html":[
       "<div>\n",
       "<style scoped>\n",
       "    .dataframe tbody tr th:only-of-type {\n",
       "        vertical-align: middle;\n",
       "    }\n",
       "\n",
       "    .dataframe tbody tr th {\n",
       "        vertical-align: top;\n",
       "    }\n",
       "\n",
       "    .dataframe thead th {\n",
       "        text-align: right;\n",
       "    }\n",
       "<\/style>\n",
       "<table border=\"1\" class=\"dataframe\">\n",
       "  <thead>\n",
       "    <tr style=\"text-align: right;\">\n",
       "      <th><\/th>\n",
       "      <th>url<\/th>\n",
       "      <th>ip<\/th>\n",
       "      <th>nb_www<\/th>\n",
       "      <th>nb_com<\/th>\n",
       "      <th>nb_dslash<\/th>\n",
       "      <th>http_in_path<\/th>\n",
       "      <th>punycode<\/th>\n",
       "      <th>port<\/th>\n",
       "      <th>tld_in_path<\/th>\n",
       "      <th>tld_in_subdomain<\/th>\n",
       "      <th>...<\/th>\n",
       "      <th>domain_in_title<\/th>\n",
       "      <th>domain_with_copyright<\/th>\n",
       "      <th>whois_registered_domain<\/th>\n",
       "      <th>domain_registration_length<\/th>\n",
       "      <th>domain_age<\/th>\n",
       "      <th>web_traffic<\/th>\n",
       "      <th>dns_record<\/th>\n",
       "      <th>google_index<\/th>\n",
       "      <th>page_rank<\/th>\n",
       "      <th>status<\/th>\n",
       "    <\/tr>\n",
       "  <\/thead>\n",
       "  <tbody>\n",
       "    <tr>\n",
       "      <th>0<\/th>\n",
       "      <td>http:\/\/www.crestonwood.com\/router.php<\/td>\n",
       "      <td>0<\/td>\n",
       "      <td>1<\/td>\n",
       "      <td>0<\/td>\n",
       "      <td>0<\/td>\n",
       "      <td>0<\/td>\n",
       "      <td>0<\/td>\n",
       "      <td>0<\/td>\n",
       "      <td>0<\/td>\n",
       "      <td>0<\/td>\n",
       "      <td>...<\/td>\n",
       "      <td>0<\/td>\n",
       "      <td>1<\/td>\n",
       "      <td>0<\/td>\n",
       "      <td>45<\/td>\n",
       "      <td>-1<\/td>\n",
       "      <td>0<\/td>\n",
       "      <td>1<\/td>\n",
       "      <td>1<\/td>\n",
       "      <td>4<\/td>\n",
       "      <td>legitimate<\/td>\n",
       "    <\/tr>\n",
       "    <tr>\n",
       "      <th>1<\/th>\n",
       "      <td>http:\/\/shadetreetechnology.com\/V4\/validation\/a...<\/td>\n",
       "      <td>1<\/td>\n",
       "      <td>0<\/td>\n",
       "      <td>0<\/td>\n",
       "      <td>0<\/td>\n",
       "      <td>0<\/td>\n",
       "      <td>0<\/td>\n",
       "      <td>0<\/td>\n",
       "      <td>0<\/td>\n",
       "      <td>0<\/td>\n",
       "      <td>...<\/td>\n",
       "      <td>1<\/td>\n",
       "      <td>0<\/td>\n",
       "      <td>0<\/td>\n",
       "      <td>77<\/td>\n",
       "      <td>5767<\/td>\n",
       "      <td>0<\/td>\n",
       "      <td>0<\/td>\n",
       "      <td>1<\/td>\n",
       "      <td>2<\/td>\n",
       "      <td>phishing<\/td>\n",
       "    <\/tr>\n",
       "    <tr>\n",
       "      <th>2<\/th>\n",
       "      <td>https:\/\/support-appleld.com.secureupdate.duila...<\/td>\n",
       "      <td>1<\/td>\n",
       "      <td>0<\/td>\n",
       "      <td>1<\/td>\n",
       "      <td>0<\/td>\n",
       "      <td>0<\/td>\n",
       "      <td>0<\/td>\n",
       "      <td>0<\/td>\n",
       "      <td>0<\/td>\n",
       "      <td>1<\/td>\n",
       "      <td>...<\/td>\n",
       "      <td>1<\/td>\n",
       "      <td>0<\/td>\n",
       "      <td>0<\/td>\n",
       "      <td>14<\/td>\n",
       "      <td>4004<\/td>\n",
       "      <td>5828815<\/td>\n",
       "      <td>0<\/td>\n",
       "      <td>1<\/td>\n",
       "      <td>0<\/td>\n",
       "      <td>phishing<\/td>\n",
       "    <\/tr>\n",
       "    <tr>\n",
       "      <th>3<\/th>\n",
       "      <td>http:\/\/rgipt.ac.in<\/td>\n",
       "      <td>0<\/td>\n",
       "      <td>0<\/td>\n",
       "      <td>0<\/td>\n",
       "      <td>0<\/td>\n",
       "      <td>0<\/td>\n",
       "      <td>0<\/td>\n",
       "      <td>0<\/td>\n",
       "      <td>0<\/td>\n",
       "      <td>0<\/td>\n",
       "      <td>...<\/td>\n",
       "      <td>1<\/td>\n",
       "      <td>0<\/td>\n",
       "      <td>0<\/td>\n",
       "      <td>62<\/td>\n",
       "      <td>-1<\/td>\n",
       "      <td>107721<\/td>\n",
       "      <td>0<\/td>\n",
       "      <td>0<\/td>\n",
       "      <td>3<\/td>\n",
       "      <td>legitimate<\/td>\n",
       "    <\/tr>\n",
       "    <tr>\n",
       "      <th>4<\/th>\n",
       "      <td>http:\/\/www.iracing.com\/tracks\/gateway-motorspo...<\/td>\n",
       "      <td>0<\/td>\n",
       "      <td>1<\/td>\n",
       "      <td>0<\/td>\n",
       "      <td>0<\/td>\n",
       "      <td>0<\/td>\n",
       "      <td>0<\/td>\n",
       "      <td>0<\/td>\n",
       "      <td>0<\/td>\n",
       "      <td>0<\/td>\n",
       "      <td>...<\/td>\n",
       "      <td>0<\/td>\n",
       "      <td>1<\/td>\n",
       "      <td>0<\/td>\n",
       "      <td>224<\/td>\n",
       "      <td>8175<\/td>\n",
       "      <td>8725<\/td>\n",
       "      <td>0<\/td>\n",
       "      <td>0<\/td>\n",
       "      <td>6<\/td>\n",
       "      <td>legitimate<\/td>\n",
       "    <\/tr>\n",
       "  <\/tbody>\n",
       "<\/table>\n",
       "<p>5 rows × 67 columns<\/p>\n",
       "<\/div>"
      ]
     },
     "metadata":{
      
     },
     "output_type":"display_data"
    }
   ],
   "metadata":{
    "datalore":{
     "node_id":"qWAOMj3iEHZREbTO2OyMxz",
     "type":"CODE",
     "hide_input_from_viewers":false,
     "hide_output_from_viewers":false,
     "report_properties":{
      
     }
    }
   }
  },
  {
   "cell_type":"markdown",
   "source":[
    "**2. Muestre la cantidad de observaciones etiquetadas en la columna status como \"legit\" y como \"phishing\". ¿Está balanceado el dataset?**"
   ],
   "attachments":{
    
   },
   "metadata":{
    "datalore":{
     "node_id":"0FsdlQCgcvalEfuQvDDCtJ",
     "type":"MD",
     "hide_input_from_viewers":false,
     "hide_output_from_viewers":false,
     "report_properties":{
      
     }
    }
   }
  },
  {
   "cell_type":"code",
   "source":[
    "df['status'].value_counts()"
   ],
   "execution_count":6,
   "outputs":[
    {
     "data":{
      "text\/html":[
       "<pre>legitimate    5715\n",
       "phishing      5715\n",
       "Name: status, dtype: int64<\/pre>"
      ]
     },
     "metadata":{
      
     },
     "output_type":"display_data"
    }
   ],
   "metadata":{
    "datalore":{
     "node_id":"pIjOiSMrO74jHWG6wK33kP",
     "type":"CODE",
     "hide_input_from_viewers":false,
     "hide_output_from_viewers":false,
     "report_properties":{
      
     }
    }
   }
  },
  {
   "cell_type":"markdown",
   "source":[
    "El *dataset* está balanceado. Existe la misma cantidad de observaciones con estado *legit* que con estado *phishing*."
   ],
   "attachments":{
    
   },
   "metadata":{
    "datalore":{
     "node_id":"SQyaQ9DIXzv4UaeDiBVuYZ",
     "type":"MD",
     "hide_input_from_viewers":false,
     "hide_output_from_viewers":false,
     "report_properties":{
      
     }
    }
   }
  },
  {
   "cell_type":"markdown",
   "source":[
    "### Derivación de características\n",
    "\n",
    "En base al artículo “Towards Benchmark Datasets for ML Based Wensite Phishing Detection: An Experimental Study”, derivar las características basadas en el dominio: f1, f2, f4 – f20, f25, f26 y f27.  \n",
    "\n",
    "Para ello escriba las funciones necesarias y genere las nuevas columnas del dataset. Muestre un nuevo ejemplo de cinco observaciones donde se visualicen algunas de las columnas nuevas."
   ],
   "attachments":{
    
   },
   "metadata":{
    "datalore":{
     "node_id":"ScMEtmtzHGU3LFCAD3IkSu",
     "type":"MD",
     "hide_input_from_viewers":false,
     "hide_output_from_viewers":false,
     "report_properties":{
      
     }
    }
   }
  },
  {
   "cell_type":"code",
   "source":[
    "specialCharacters={\n",
    "    \"f4\":\"-\",\n",
    "    \"f5\":\"@\",\n",
    "    \"f6\":\"?\",\n",
    "    \"f7\":\"&\",\n",
    "    \"f8\":\"|\",\n",
    "    \"f9\":\"=\",\n",
    "    \"f10\":\" _\",\n",
    "    \"f11\":\" ˜\",\n",
    "    \"f12\":\" %\",\n",
    "    \"f13\":\" \/\",\n",
    "    \"f14\":\" *\",\n",
    "    \"f15\":\" :\",\n",
    "    \"f16\":\" ,\",\n",
    "    \"f17\":\" ;\",\n",
    "    \"f18\":\" $\",\n",
    "    \"f19\":\" %\",\n",
    "    \"f20\":\" \",\n",
    "    }"
   ],
   "execution_count":7,
   "outputs":[
    
   ],
   "metadata":{
    "datalore":{
     "node_id":"FCSS6yDyNwUJiqM03kd9y3",
     "type":"CODE",
     "hide_input_from_viewers":false,
     "hide_output_from_viewers":false,
     "report_properties":{
      
     }
    }
   }
  },
  {
   "cell_type":"code",
   "source":[
    "def countSpecialCharacters(data):\n",
    "    for key in specialCharacters:\n",
    "        data[key] = data[\"url\"].apply(lambda x: x.count(specialCharacters[key]))"
   ],
   "execution_count":8,
   "outputs":[
    
   ],
   "metadata":{
    "datalore":{
     "node_id":"pwsYMMXAYAQI7ZtETglSOd",
     "type":"CODE",
     "hide_input_from_viewers":false,
     "hide_output_from_viewers":false,
     "report_properties":{
      
     }
    }
   }
  },
  {
   "cell_type":"code",
   "source":[
    "characteristics = [\"url\",\"f1\",\"f2\",\"f3\",\"f4\",\"f5\",\"f6\",\"f7\",\"f8\",\"f9\",\"f10\",\"f11\",\"f12\",\"f13\",\"f14\",\"f15\",\"f16\",\"f17\",\"f18\",\"f19\",\"f20\",\"f25\",\"f26\",\"f27\"]"
   ],
   "execution_count":9,
   "outputs":[
    
   ],
   "metadata":{
    "datalore":{
     "node_id":"aFr3cmemTRdFOCV9ZS3VtO",
     "type":"CODE",
     "hide_input_from_viewers":false,
     "hide_output_from_viewers":false,
     "report_properties":{
      
     }
    }
   }
  },
  {
   "cell_type":"code",
   "source":[
    "# Longitud de la url\n",
    "df[\"f1\"] = df[\"url\"].apply(lambda x: len(x.split(\"\/\/\")[1])) # URL completa\n",
    "df[\"f2\"] = df[\"url\"].apply(lambda x: len(x.split(\"\/\/\")[1].split(\"\/\")[0])) # Dominio\n",
    "# Si la dirección es un dominio o es la dirección IP\n",
    "df[\"f3\"] = df[\"url\"].apply(lambda x: 1 if x.split(\"\/\/\")[1].split(\"\/\")[0].split(\".\")[0].isdigit() else 0)\n",
    "# Cantidad de caracteres especiales\n",
    "countSpecialCharacters(df)\n",
    "# Posee token https\n",
    "df[\"f25\"] = df[\"url\"].apply(lambda x: 1 if re.search(\"^https\",x) else 0)\n",
    "# Cuenta la cantidad de números en la url\n",
    "df[\"f26\"] = df[\"url\"].apply(lambda x: len(re.findall(\"\\d\",x.split(\"\/\/\")[1]))) # URL completa\n",
    "df[\"f27\"] = df[\"url\"].apply(lambda x: len(re.findall(\"\\d\",x.split(\"\/\/\")[1].split(\"\/\")[0]))) # Dominio\n",
    "display(df[characteristics].head(5))"
   ],
   "execution_count":10,
   "outputs":[
    {
     "data":{
      "text\/html":[
       "<div>\n",
       "<style scoped>\n",
       "    .dataframe tbody tr th:only-of-type {\n",
       "        vertical-align: middle;\n",
       "    }\n",
       "\n",
       "    .dataframe tbody tr th {\n",
       "        vertical-align: top;\n",
       "    }\n",
       "\n",
       "    .dataframe thead th {\n",
       "        text-align: right;\n",
       "    }\n",
       "<\/style>\n",
       "<table border=\"1\" class=\"dataframe\">\n",
       "  <thead>\n",
       "    <tr style=\"text-align: right;\">\n",
       "      <th><\/th>\n",
       "      <th>url<\/th>\n",
       "      <th>f1<\/th>\n",
       "      <th>f2<\/th>\n",
       "      <th>f3<\/th>\n",
       "      <th>f4<\/th>\n",
       "      <th>f5<\/th>\n",
       "      <th>f6<\/th>\n",
       "      <th>f7<\/th>\n",
       "      <th>f8<\/th>\n",
       "      <th>f9<\/th>\n",
       "      <th>...<\/th>\n",
       "      <th>f14<\/th>\n",
       "      <th>f15<\/th>\n",
       "      <th>f16<\/th>\n",
       "      <th>f17<\/th>\n",
       "      <th>f18<\/th>\n",
       "      <th>f19<\/th>\n",
       "      <th>f20<\/th>\n",
       "      <th>f25<\/th>\n",
       "      <th>f26<\/th>\n",
       "      <th>f27<\/th>\n",
       "    <\/tr>\n",
       "  <\/thead>\n",
       "  <tbody>\n",
       "    <tr>\n",
       "      <th>0<\/th>\n",
       "      <td>http:\/\/www.crestonwood.com\/router.php<\/td>\n",
       "      <td>30<\/td>\n",
       "      <td>19<\/td>\n",
       "      <td>0<\/td>\n",
       "      <td>0<\/td>\n",
       "      <td>0<\/td>\n",
       "      <td>0<\/td>\n",
       "      <td>0<\/td>\n",
       "      <td>0<\/td>\n",
       "      <td>0<\/td>\n",
       "      <td>...<\/td>\n",
       "      <td>0<\/td>\n",
       "      <td>0<\/td>\n",
       "      <td>0<\/td>\n",
       "      <td>0<\/td>\n",
       "      <td>0<\/td>\n",
       "      <td>0<\/td>\n",
       "      <td>0<\/td>\n",
       "      <td>0<\/td>\n",
       "      <td>0<\/td>\n",
       "      <td>0<\/td>\n",
       "    <\/tr>\n",
       "    <tr>\n",
       "      <th>1<\/th>\n",
       "      <td>http:\/\/shadetreetechnology.com\/V4\/validation\/a...<\/td>\n",
       "      <td>70<\/td>\n",
       "      <td>23<\/td>\n",
       "      <td>0<\/td>\n",
       "      <td>0<\/td>\n",
       "      <td>0<\/td>\n",
       "      <td>0<\/td>\n",
       "      <td>0<\/td>\n",
       "      <td>0<\/td>\n",
       "      <td>0<\/td>\n",
       "      <td>...<\/td>\n",
       "      <td>0<\/td>\n",
       "      <td>0<\/td>\n",
       "      <td>0<\/td>\n",
       "      <td>0<\/td>\n",
       "      <td>0<\/td>\n",
       "      <td>0<\/td>\n",
       "      <td>0<\/td>\n",
       "      <td>0<\/td>\n",
       "      <td>17<\/td>\n",
       "      <td>0<\/td>\n",
       "    <\/tr>\n",
       "    <tr>\n",
       "      <th>2<\/th>\n",
       "      <td>https:\/\/support-appleld.com.secureupdate.duila...<\/td>\n",
       "      <td>118<\/td>\n",
       "      <td>50<\/td>\n",
       "      <td>0<\/td>\n",
       "      <td>1<\/td>\n",
       "      <td>0<\/td>\n",
       "      <td>1<\/td>\n",
       "      <td>2<\/td>\n",
       "      <td>0<\/td>\n",
       "      <td>3<\/td>\n",
       "      <td>...<\/td>\n",
       "      <td>0<\/td>\n",
       "      <td>0<\/td>\n",
       "      <td>0<\/td>\n",
       "      <td>0<\/td>\n",
       "      <td>0<\/td>\n",
       "      <td>0<\/td>\n",
       "      <td>0<\/td>\n",
       "      <td>1<\/td>\n",
       "      <td>19<\/td>\n",
       "      <td>0<\/td>\n",
       "    <\/tr>\n",
       "    <tr>\n",
       "      <th>3<\/th>\n",
       "      <td>http:\/\/rgipt.ac.in<\/td>\n",
       "      <td>11<\/td>\n",
       "      <td>11<\/td>\n",
       "      <td>0<\/td>\n",
       "      <td>0<\/td>\n",
       "      <td>0<\/td>\n",
       "      <td>0<\/td>\n",
       "      <td>0<\/td>\n",
       "      <td>0<\/td>\n",
       "      <td>0<\/td>\n",
       "      <td>...<\/td>\n",
       "      <td>0<\/td>\n",
       "      <td>0<\/td>\n",
       "      <td>0<\/td>\n",
       "      <td>0<\/td>\n",
       "      <td>0<\/td>\n",
       "      <td>0<\/td>\n",
       "      <td>0<\/td>\n",
       "      <td>0<\/td>\n",
       "      <td>0<\/td>\n",
       "      <td>0<\/td>\n",
       "    <\/tr>\n",
       "    <tr>\n",
       "      <th>4<\/th>\n",
       "      <td>http:\/\/www.iracing.com\/tracks\/gateway-motorspo...<\/td>\n",
       "      <td>48<\/td>\n",
       "      <td>15<\/td>\n",
       "      <td>0<\/td>\n",
       "      <td>2<\/td>\n",
       "      <td>0<\/td>\n",
       "      <td>0<\/td>\n",
       "      <td>0<\/td>\n",
       "      <td>0<\/td>\n",
       "      <td>0<\/td>\n",
       "      <td>...<\/td>\n",
       "      <td>0<\/td>\n",
       "      <td>0<\/td>\n",
       "      <td>0<\/td>\n",
       "      <td>0<\/td>\n",
       "      <td>0<\/td>\n",
       "      <td>0<\/td>\n",
       "      <td>0<\/td>\n",
       "      <td>0<\/td>\n",
       "      <td>0<\/td>\n",
       "      <td>0<\/td>\n",
       "    <\/tr>\n",
       "  <\/tbody>\n",
       "<\/table>\n",
       "<p>5 rows × 24 columns<\/p>\n",
       "<\/div>"
      ]
     },
     "metadata":{
      
     },
     "output_type":"display_data"
    }
   ],
   "metadata":{
    "datalore":{
     "node_id":"hN22FHp96DiGZyxcEWuprA",
     "type":"CODE",
     "hide_input_from_viewers":false,
     "hide_output_from_viewers":false,
     "report_properties":{
      
     }
    }
   }
  },
  {
   "cell_type":"markdown",
   "source":[
    "### Preprocesamiento\n",
    "\n",
    "Realice las modificaciones necesarias para convertir la variable categórica status a una variable binaria. Elimine la columna del dominio."
   ],
   "attachments":{
    
   },
   "metadata":{
    "datalore":{
     "node_id":"Q7bTUlGnY7G5dXBHpXMyKi",
     "type":"MD",
     "hide_input_from_viewers":false,
     "hide_output_from_viewers":false,
     "report_properties":{
      
     }
    }
   }
  },
  {
   "cell_type":"code",
   "source":[
    "df.loc[df.status == 'legitimate', 'status'] = 0.0\n",
    "df.loc[df.status == 'phishing', 'status'] = 1.0\n",
    "df[\"status\"] = (pd.to_numeric(df['status'], errors='coerce')) # Asegurando que el tipo de dato sea numerico\n",
    "df.drop(columns=[\"url\"], inplace=True) # Eliminando la columna url"
   ],
   "execution_count":11,
   "outputs":[
    
   ],
   "metadata":{
    "datalore":{
     "node_id":"LlxCJHVwr2UypIqEwO9A6G",
     "type":"CODE",
     "hide_input_from_viewers":false,
     "hide_output_from_viewers":false,
     "report_properties":{
      
     }
    }
   }
  },
  {
   "cell_type":"code",
   "source":[
    "df.head(5)"
   ],
   "execution_count":12,
   "outputs":[
    {
     "data":{
      "text\/html":[
       "<div>\n",
       "<style scoped>\n",
       "    .dataframe tbody tr th:only-of-type {\n",
       "        vertical-align: middle;\n",
       "    }\n",
       "\n",
       "    .dataframe tbody tr th {\n",
       "        vertical-align: top;\n",
       "    }\n",
       "\n",
       "    .dataframe thead th {\n",
       "        text-align: right;\n",
       "    }\n",
       "<\/style>\n",
       "<table border=\"1\" class=\"dataframe\">\n",
       "  <thead>\n",
       "    <tr style=\"text-align: right;\">\n",
       "      <th><\/th>\n",
       "      <th>ip<\/th>\n",
       "      <th>nb_www<\/th>\n",
       "      <th>nb_com<\/th>\n",
       "      <th>nb_dslash<\/th>\n",
       "      <th>http_in_path<\/th>\n",
       "      <th>punycode<\/th>\n",
       "      <th>port<\/th>\n",
       "      <th>tld_in_path<\/th>\n",
       "      <th>tld_in_subdomain<\/th>\n",
       "      <th>abnormal_subdomain<\/th>\n",
       "      <th>...<\/th>\n",
       "      <th>f14<\/th>\n",
       "      <th>f15<\/th>\n",
       "      <th>f16<\/th>\n",
       "      <th>f17<\/th>\n",
       "      <th>f18<\/th>\n",
       "      <th>f19<\/th>\n",
       "      <th>f20<\/th>\n",
       "      <th>f25<\/th>\n",
       "      <th>f26<\/th>\n",
       "      <th>f27<\/th>\n",
       "    <\/tr>\n",
       "  <\/thead>\n",
       "  <tbody>\n",
       "    <tr>\n",
       "      <th>0<\/th>\n",
       "      <td>0<\/td>\n",
       "      <td>1<\/td>\n",
       "      <td>0<\/td>\n",
       "      <td>0<\/td>\n",
       "      <td>0<\/td>\n",
       "      <td>0<\/td>\n",
       "      <td>0<\/td>\n",
       "      <td>0<\/td>\n",
       "      <td>0<\/td>\n",
       "      <td>0<\/td>\n",
       "      <td>...<\/td>\n",
       "      <td>0<\/td>\n",
       "      <td>0<\/td>\n",
       "      <td>0<\/td>\n",
       "      <td>0<\/td>\n",
       "      <td>0<\/td>\n",
       "      <td>0<\/td>\n",
       "      <td>0<\/td>\n",
       "      <td>0<\/td>\n",
       "      <td>0<\/td>\n",
       "      <td>0<\/td>\n",
       "    <\/tr>\n",
       "    <tr>\n",
       "      <th>1<\/th>\n",
       "      <td>1<\/td>\n",
       "      <td>0<\/td>\n",
       "      <td>0<\/td>\n",
       "      <td>0<\/td>\n",
       "      <td>0<\/td>\n",
       "      <td>0<\/td>\n",
       "      <td>0<\/td>\n",
       "      <td>0<\/td>\n",
       "      <td>0<\/td>\n",
       "      <td>0<\/td>\n",
       "      <td>...<\/td>\n",
       "      <td>0<\/td>\n",
       "      <td>0<\/td>\n",
       "      <td>0<\/td>\n",
       "      <td>0<\/td>\n",
       "      <td>0<\/td>\n",
       "      <td>0<\/td>\n",
       "      <td>0<\/td>\n",
       "      <td>0<\/td>\n",
       "      <td>17<\/td>\n",
       "      <td>0<\/td>\n",
       "    <\/tr>\n",
       "    <tr>\n",
       "      <th>2<\/th>\n",
       "      <td>1<\/td>\n",
       "      <td>0<\/td>\n",
       "      <td>1<\/td>\n",
       "      <td>0<\/td>\n",
       "      <td>0<\/td>\n",
       "      <td>0<\/td>\n",
       "      <td>0<\/td>\n",
       "      <td>0<\/td>\n",
       "      <td>1<\/td>\n",
       "      <td>0<\/td>\n",
       "      <td>...<\/td>\n",
       "      <td>0<\/td>\n",
       "      <td>0<\/td>\n",
       "      <td>0<\/td>\n",
       "      <td>0<\/td>\n",
       "      <td>0<\/td>\n",
       "      <td>0<\/td>\n",
       "      <td>0<\/td>\n",
       "      <td>1<\/td>\n",
       "      <td>19<\/td>\n",
       "      <td>0<\/td>\n",
       "    <\/tr>\n",
       "    <tr>\n",
       "      <th>3<\/th>\n",
       "      <td>0<\/td>\n",
       "      <td>0<\/td>\n",
       "      <td>0<\/td>\n",
       "      <td>0<\/td>\n",
       "      <td>0<\/td>\n",
       "      <td>0<\/td>\n",
       "      <td>0<\/td>\n",
       "      <td>0<\/td>\n",
       "      <td>0<\/td>\n",
       "      <td>0<\/td>\n",
       "      <td>...<\/td>\n",
       "      <td>0<\/td>\n",
       "      <td>0<\/td>\n",
       "      <td>0<\/td>\n",
       "      <td>0<\/td>\n",
       "      <td>0<\/td>\n",
       "      <td>0<\/td>\n",
       "      <td>0<\/td>\n",
       "      <td>0<\/td>\n",
       "      <td>0<\/td>\n",
       "      <td>0<\/td>\n",
       "    <\/tr>\n",
       "    <tr>\n",
       "      <th>4<\/th>\n",
       "      <td>0<\/td>\n",
       "      <td>1<\/td>\n",
       "      <td>0<\/td>\n",
       "      <td>0<\/td>\n",
       "      <td>0<\/td>\n",
       "      <td>0<\/td>\n",
       "      <td>0<\/td>\n",
       "      <td>0<\/td>\n",
       "      <td>0<\/td>\n",
       "      <td>0<\/td>\n",
       "      <td>...<\/td>\n",
       "      <td>0<\/td>\n",
       "      <td>0<\/td>\n",
       "      <td>0<\/td>\n",
       "      <td>0<\/td>\n",
       "      <td>0<\/td>\n",
       "      <td>0<\/td>\n",
       "      <td>0<\/td>\n",
       "      <td>0<\/td>\n",
       "      <td>0<\/td>\n",
       "      <td>0<\/td>\n",
       "    <\/tr>\n",
       "  <\/tbody>\n",
       "<\/table>\n",
       "<p>5 rows × 89 columns<\/p>\n",
       "<\/div>"
      ]
     },
     "metadata":{
      
     },
     "output_type":"display_data"
    }
   ],
   "metadata":{
    "datalore":{
     "node_id":"NaBPjr9ImhT0MBw1TfE5DV",
     "type":"CODE",
     "hide_input_from_viewers":false,
     "hide_output_from_viewers":false,
     "report_properties":{
      
     }
    }
   }
  },
  {
   "cell_type":"markdown",
   "source":[
    "### Visualización de resultados\n",
    "\n",
    "Genere un reporte de perfil con la librería *pandas_profiling*. Analice el reporte y determine las columnas que son restantes, o que no tienen una varianza alta con la columna *status*. Almacene su reporte como una página html."
   ],
   "attachments":{
    
   },
   "metadata":{
    "datalore":{
     "node_id":"pABbHjxpfW91UwoxXeWDE6",
     "type":"MD",
     "hide_input_from_viewers":false,
     "hide_output_from_viewers":false,
     "report_properties":{
      
     }
    }
   }
  },
  {
   "cell_type":"code",
   "source":[
    "prof = ProfileReport(df)"
   ],
   "execution_count":null,
   "outputs":[
    
   ],
   "metadata":{
    "datalore":{
     "node_id":"2YZ14LIS2lEuF3ipqsFm0C",
     "type":"CODE",
     "hide_input_from_viewers":false,
     "hide_output_from_viewers":false,
     "report_properties":{
      
     }
    }
   }
  },
  {
   "cell_type":"code",
   "source":[
    "prof.to_file(output_file='output.html')"
   ],
   "execution_count":null,
   "outputs":[
    {
     "name":"stderr",
     "text":[
      "Summarize dataset: 100%|██████████| 1323\/1323 [03:04<00:00,  7.15it\/s, Completed]                                                    \n",
      "Generate report structure: 100%|██████████| 1\/1 [00:23<00:00, 23.35s\/it]\n",
      "Render HTML: 100%|██████████| 1\/1 [00:38<00:00, 38.95s\/it]\n",
      "Export report to file: 100%|██████████| 1\/1 [00:01<00:00,  1.30s\/it]\n"
     ],
     "output_type":"stream"
    }
   ],
   "metadata":{
    "datalore":{
     "node_id":"Xi2K34tujWWAP06m5tF0Cp",
     "type":"CODE",
     "hide_input_from_viewers":false,
     "hide_output_from_viewers":false,
     "report_properties":{
      
     }
    }
   }
  },
  {
   "cell_type":"code",
   "source":[
    "corr = df.corr()\n",
    "corr[corr.status.notna() == False].status"
   ],
   "execution_count":13,
   "outputs":[
    {
     "data":{
      "text\/html":[
       "<pre>ratio_nullHyperlinks   NaN\n",
       "ratio_intRedirection   NaN\n",
       "ratio_intErrors        NaN\n",
       "submit_email           NaN\n",
       "sfh                    NaN\n",
       "f8                     NaN\n",
       "f10                    NaN\n",
       "f11                    NaN\n",
       "f12                    NaN\n",
       "f13                    NaN\n",
       "f14                    NaN\n",
       "f15                    NaN\n",
       "f16                    NaN\n",
       "f17                    NaN\n",
       "f18                    NaN\n",
       "f19                    NaN\n",
       "Name: status, dtype: float64<\/pre>"
      ]
     },
     "metadata":{
      
     },
     "output_type":"display_data"
    }
   ],
   "metadata":{
    "datalore":{
     "node_id":"dYAYfZfw0aViesPsQlk8iL",
     "type":"CODE",
     "hide_input_from_viewers":false,
     "hide_output_from_viewers":false,
     "report_properties":{
      
     }
    }
   }
  },
  {
   "cell_type":"markdown",
   "source":[
    "Luego de analizar el reporte y de analizar la relación que tiene la variable status con las demás, se puede obtener que las siguientes variables no aportan valor a dicha variable. Las variables son:\n",
    "\n",
    "ratio_nullHyperlinks \\\n",
    "ratio_intRedirection \n",
    "ratio_intErrors      \n",
    "submit_email        \n",
    "sfh                 \n",
    "f8                  \n",
    "f10                 \n",
    "f11                 \n",
    "f12                 \n",
    "f13                 \n",
    "f14                 \n",
    "f15                 \n",
    "f16                 \n",
    "f17                 \n",
    "f18                 \n",
    "f19                               \n",
    "\n",
    "Estas variables se puede eliminar al no aportar nada a la variable status."
   ],
   "attachments":{
    
   },
   "metadata":{
    "datalore":{
     "node_id":"hZikuLoPeBoXSs1ZleWa3q",
     "type":"MD",
     "hide_input_from_viewers":false,
     "hide_output_from_viewers":false,
     "report_properties":{
      
     }
    }
   }
  },
  {
   "cell_type":"code",
   "source":[
    "# Codigo sacado de: https:\/\/stackoverflow.com\/questions\/17778394\/list-highest-correlation-pairs-from-a-large-correlation-matrix-in-pandas\n",
    "sol = (corr.where(np.triu(np.ones(corr.shape), k=1).astype(bool))\n",
    "                  .stack()\n",
    "                  .sort_values(ascending=False))\n",
    "print(sol[sol > 0.7])"
   ],
   "execution_count":14,
   "outputs":[
    {
     "name":"stdout",
     "text":[
      "longest_words_raw    longest_word_path    0.968503\n",
      "f7                   f9                   0.906404\n",
      "longest_word_host    avg_word_host        0.816313\n",
      "shortest_word_host   avg_word_host        0.800014\n",
      "ratio_intHyperlinks  links_in_tags        0.799374\n",
      "longest_word_path    avg_word_path        0.791198\n",
      "f1                   f26                  0.787492\n",
      "longest_words_raw    avg_words_raw        0.784753\n",
      "f6                   f9                   0.731735\n",
      "google_index         status               0.731171\n",
      "avg_words_raw        avg_word_path        0.729817\n",
      "longest_words_raw    avg_word_path        0.725344\n",
      "length_words_raw     f1                   0.720165\n",
      "longest_word_path    avg_words_raw        0.701914\n",
      "dtype: float64\n"
     ],
     "output_type":"stream"
    }
   ],
   "metadata":{
    "datalore":{
     "node_id":"RaarRVyVtn95mIMBm36weE",
     "type":"CODE",
     "hide_input_from_viewers":false,
     "hide_output_from_viewers":false,
     "report_properties":{
      
     }
    }
   }
  },
  {
   "cell_type":"markdown",
   "source":[
    "Otras variables que se pueden eliminar al contar con una correlación alta (arriba de 0.7) entre si son: \\\n",
    "longest_word_host\\\n",
    "shortest_word_host\\\n",
    "ratio_intHyperlinks\\\n",
    "f1\\\n",
    "f6\\\n",
    "avg_words_raw\\\n",
    "longest_words_raw\\\n",
    "longest_word_path\n",
    "\n",
    "\n",
    "Nota: se tomaron en cuenta las variables que salieron en más de una vez"
   ],
   "attachments":{
    
   },
   "metadata":{
    "datalore":{
     "node_id":"5VeHMEuXHt0yR1sSIGamIZ",
     "type":"MD",
     "hide_input_from_viewers":false,
     "hide_output_from_viewers":false,
     "report_properties":{
      
     }
    }
   }
  },
  {
   "cell_type":"markdown",
   "source":[
    "### Selección de Características\n",
    "\n",
    "En base al análisis del reporte, elimine las características repetidas o irrelevantes para la clasificación de un sitio de *phishing*. Verifique que no posee observaciones repetidas."
   ],
   "attachments":{
    
   },
   "metadata":{
    "datalore":{
     "node_id":"tX7SmN2EDEq6wov2xXLqTQ",
     "type":"MD",
     "hide_input_from_viewers":false,
     "hide_output_from_viewers":false,
     "report_properties":{
      
     }
    }
   }
  },
  {
   "cell_type":"code",
   "source":[
    "col_to_delete = [\"ratio_nullHyperlinks\",\n",
    "                \"ratio_intRedirection\",\n",
    "                \"ratio_intErrors\",\n",
    "                \"submit_email\",\n",
    "                \"sfh\",\n",
    "                \"f8\",\n",
    "                \"f10\",\n",
    "                \"f11\",\n",
    "                \"f12\",\n",
    "                \"f13\",\n",
    "                \"f14\",\n",
    "                \"f15\",\n",
    "                \"f16\",\n",
    "                \"f17\",\n",
    "                \"f18\",\n",
    "                \"f19\",\n",
    "                \"longest_word_host\",\n",
    "                \"shortest_word_host\",\n",
    "                \"ratio_intHyperlinks\",\n",
    "                \"f1\",\n",
    "                \"f6\",\n",
    "                \"avg_words_raw\",\n",
    "                \"longest_words_raw\",\n",
    "                \"longest_word_path\",\n",
    "]"
   ],
   "execution_count":16,
   "outputs":[
    
   ],
   "metadata":{
    "datalore":{
     "node_id":"gHL4Q0aNIrPpUkK2Darz1x",
     "type":"CODE",
     "hide_input_from_viewers":false,
     "hide_output_from_viewers":false,
     "report_properties":{
      
     }
    }
   }
  },
  {
   "cell_type":"code",
   "source":[
    "df.drop(col_to_delete, axis=1, inplace=True)"
   ],
   "execution_count":17,
   "outputs":[
    
   ],
   "metadata":{
    "datalore":{
     "node_id":"INk6eZk8O9KMvKGeSP425X",
     "type":"CODE",
     "hide_input_from_viewers":false,
     "hide_output_from_viewers":false,
     "report_properties":{
      
     }
    }
   }
  },
  {
   "cell_type":"code",
   "source":[
    "df.head(5)"
   ],
   "execution_count":18,
   "outputs":[
    {
     "data":{
      "text\/html":[
       "<div>\n",
       "<style scoped>\n",
       "    .dataframe tbody tr th:only-of-type {\n",
       "        vertical-align: middle;\n",
       "    }\n",
       "\n",
       "    .dataframe tbody tr th {\n",
       "        vertical-align: top;\n",
       "    }\n",
       "\n",
       "    .dataframe thead th {\n",
       "        text-align: right;\n",
       "    }\n",
       "<\/style>\n",
       "<table border=\"1\" class=\"dataframe\">\n",
       "  <thead>\n",
       "    <tr style=\"text-align: right;\">\n",
       "      <th><\/th>\n",
       "      <th>ip<\/th>\n",
       "      <th>nb_www<\/th>\n",
       "      <th>nb_com<\/th>\n",
       "      <th>nb_dslash<\/th>\n",
       "      <th>http_in_path<\/th>\n",
       "      <th>punycode<\/th>\n",
       "      <th>port<\/th>\n",
       "      <th>tld_in_path<\/th>\n",
       "      <th>tld_in_subdomain<\/th>\n",
       "      <th>abnormal_subdomain<\/th>\n",
       "      <th>...<\/th>\n",
       "      <th>f2<\/th>\n",
       "      <th>f3<\/th>\n",
       "      <th>f4<\/th>\n",
       "      <th>f5<\/th>\n",
       "      <th>f7<\/th>\n",
       "      <th>f9<\/th>\n",
       "      <th>f20<\/th>\n",
       "      <th>f25<\/th>\n",
       "      <th>f26<\/th>\n",
       "      <th>f27<\/th>\n",
       "    <\/tr>\n",
       "  <\/thead>\n",
       "  <tbody>\n",
       "    <tr>\n",
       "      <th>0<\/th>\n",
       "      <td>0<\/td>\n",
       "      <td>1<\/td>\n",
       "      <td>0<\/td>\n",
       "      <td>0<\/td>\n",
       "      <td>0<\/td>\n",
       "      <td>0<\/td>\n",
       "      <td>0<\/td>\n",
       "      <td>0<\/td>\n",
       "      <td>0<\/td>\n",
       "      <td>0<\/td>\n",
       "      <td>...<\/td>\n",
       "      <td>19<\/td>\n",
       "      <td>0<\/td>\n",
       "      <td>0<\/td>\n",
       "      <td>0<\/td>\n",
       "      <td>0<\/td>\n",
       "      <td>0<\/td>\n",
       "      <td>0<\/td>\n",
       "      <td>0<\/td>\n",
       "      <td>0<\/td>\n",
       "      <td>0<\/td>\n",
       "    <\/tr>\n",
       "    <tr>\n",
       "      <th>1<\/th>\n",
       "      <td>1<\/td>\n",
       "      <td>0<\/td>\n",
       "      <td>0<\/td>\n",
       "      <td>0<\/td>\n",
       "      <td>0<\/td>\n",
       "      <td>0<\/td>\n",
       "      <td>0<\/td>\n",
       "      <td>0<\/td>\n",
       "      <td>0<\/td>\n",
       "      <td>0<\/td>\n",
       "      <td>...<\/td>\n",
       "      <td>23<\/td>\n",
       "      <td>0<\/td>\n",
       "      <td>0<\/td>\n",
       "      <td>0<\/td>\n",
       "      <td>0<\/td>\n",
       "      <td>0<\/td>\n",
       "      <td>0<\/td>\n",
       "      <td>0<\/td>\n",
       "      <td>17<\/td>\n",
       "      <td>0<\/td>\n",
       "    <\/tr>\n",
       "    <tr>\n",
       "      <th>2<\/th>\n",
       "      <td>1<\/td>\n",
       "      <td>0<\/td>\n",
       "      <td>1<\/td>\n",
       "      <td>0<\/td>\n",
       "      <td>0<\/td>\n",
       "      <td>0<\/td>\n",
       "      <td>0<\/td>\n",
       "      <td>0<\/td>\n",
       "      <td>1<\/td>\n",
       "      <td>0<\/td>\n",
       "      <td>...<\/td>\n",
       "      <td>50<\/td>\n",
       "      <td>0<\/td>\n",
       "      <td>1<\/td>\n",
       "      <td>0<\/td>\n",
       "      <td>2<\/td>\n",
       "      <td>3<\/td>\n",
       "      <td>0<\/td>\n",
       "      <td>1<\/td>\n",
       "      <td>19<\/td>\n",
       "      <td>0<\/td>\n",
       "    <\/tr>\n",
       "    <tr>\n",
       "      <th>3<\/th>\n",
       "      <td>0<\/td>\n",
       "      <td>0<\/td>\n",
       "      <td>0<\/td>\n",
       "      <td>0<\/td>\n",
       "      <td>0<\/td>\n",
       "      <td>0<\/td>\n",
       "      <td>0<\/td>\n",
       "      <td>0<\/td>\n",
       "      <td>0<\/td>\n",
       "      <td>0<\/td>\n",
       "      <td>...<\/td>\n",
       "      <td>11<\/td>\n",
       "      <td>0<\/td>\n",
       "      <td>0<\/td>\n",
       "      <td>0<\/td>\n",
       "      <td>0<\/td>\n",
       "      <td>0<\/td>\n",
       "      <td>0<\/td>\n",
       "      <td>0<\/td>\n",
       "      <td>0<\/td>\n",
       "      <td>0<\/td>\n",
       "    <\/tr>\n",
       "    <tr>\n",
       "      <th>4<\/th>\n",
       "      <td>0<\/td>\n",
       "      <td>1<\/td>\n",
       "      <td>0<\/td>\n",
       "      <td>0<\/td>\n",
       "      <td>0<\/td>\n",
       "      <td>0<\/td>\n",
       "      <td>0<\/td>\n",
       "      <td>0<\/td>\n",
       "      <td>0<\/td>\n",
       "      <td>0<\/td>\n",
       "      <td>...<\/td>\n",
       "      <td>15<\/td>\n",
       "      <td>0<\/td>\n",
       "      <td>2<\/td>\n",
       "      <td>0<\/td>\n",
       "      <td>0<\/td>\n",
       "      <td>0<\/td>\n",
       "      <td>0<\/td>\n",
       "      <td>0<\/td>\n",
       "      <td>0<\/td>\n",
       "      <td>0<\/td>\n",
       "    <\/tr>\n",
       "  <\/tbody>\n",
       "<\/table>\n",
       "<p>5 rows × 65 columns<\/p>\n",
       "<\/div>"
      ]
     },
     "metadata":{
      
     },
     "output_type":"display_data"
    }
   ],
   "metadata":{
    "datalore":{
     "node_id":"XdZHvppEB8gQM4QAzn4Ior",
     "type":"CODE",
     "hide_input_from_viewers":false,
     "hide_output_from_viewers":false,
     "report_properties":{
      
     }
    }
   }
  },
  {
   "cell_type":"markdown",
   "source":[
    "## Parte 2 - Implementación"
   ],
   "attachments":{
    
   },
   "metadata":{
    "datalore":{
     "node_id":"h2b7WJmt9i3tAt16tKA5mH",
     "type":"MD",
     "hide_input_from_viewers":false,
     "hide_output_from_viewers":false,
     "report_properties":{
      
     }
    }
   }
  },
  {
   "cell_type":"markdown",
   "source":[
    "### Separación de datos\n",
    "- Datos de entrenamiento: 55%\n",
    "- Datos de validación: 15%\n",
    "- Datos de prueba: 30%\n",
    "- Almacene cada datset como un archivo .csv"
   ],
   "attachments":{
    
   },
   "metadata":{
    "datalore":{
     "node_id":"kMBIJYmgpzeqUJvfVECRTe",
     "type":"MD",
     "hide_input_from_viewers":false,
     "hide_output_from_viewers":false,
     "report_properties":{
      
     }
    }
   }
  },
  {
   "cell_type":"code",
   "source":[
    "target = df['status']\n",
    "feature_matrix = df.drop(['status'], axis=1)\n",
    "print('Final features', feature_matrix.columns)\n",
    "feature_matrix.head()"
   ],
   "execution_count":19,
   "outputs":[
    {
     "name":"stdout",
     "text":[
      "Final features Index(['ip', 'nb_www', 'nb_com', 'nb_dslash', 'http_in_path', 'punycode',\n",
      "       'port', 'tld_in_path', 'tld_in_subdomain', 'abnormal_subdomain',\n",
      "       'nb_subdomains', 'prefix_suffix', 'random_domain', 'shortening_service',\n",
      "       'path_extension', 'nb_redirection', 'nb_external_redirection',\n",
      "       'length_words_raw', 'char_repeat', 'shortest_words_raw',\n",
      "       'shortest_word_path', 'avg_word_host', 'avg_word_path', 'phish_hints',\n",
      "       'domain_in_brand', 'brand_in_subdomain', 'brand_in_path',\n",
      "       'suspecious_tld', 'statistical_report', 'nb_hyperlinks',\n",
      "       'ratio_extHyperlinks', 'nb_extCSS', 'ratio_extRedirection',\n",
      "       'ratio_extErrors', 'login_form', 'external_favicon', 'links_in_tags',\n",
      "       'ratio_intMedia', 'ratio_extMedia', 'iframe', 'popup_window',\n",
      "       'safe_anchor', 'onmouseover', 'right_clic', 'empty_title',\n",
      "       'domain_in_title', 'domain_with_copyright', 'whois_registered_domain',\n",
      "       'domain_registration_length', 'domain_age', 'web_traffic', 'dns_record',\n",
      "       'google_index', 'page_rank', 'f2', 'f3', 'f4', 'f5', 'f7', 'f9', 'f20',\n",
      "       'f25', 'f26', 'f27'],\n",
      "      dtype='object')\n"
     ],
     "output_type":"stream"
    },
    {
     "data":{
      "text\/html":[
       "<div>\n",
       "<style scoped>\n",
       "    .dataframe tbody tr th:only-of-type {\n",
       "        vertical-align: middle;\n",
       "    }\n",
       "\n",
       "    .dataframe tbody tr th {\n",
       "        vertical-align: top;\n",
       "    }\n",
       "\n",
       "    .dataframe thead th {\n",
       "        text-align: right;\n",
       "    }\n",
       "<\/style>\n",
       "<table border=\"1\" class=\"dataframe\">\n",
       "  <thead>\n",
       "    <tr style=\"text-align: right;\">\n",
       "      <th><\/th>\n",
       "      <th>ip<\/th>\n",
       "      <th>nb_www<\/th>\n",
       "      <th>nb_com<\/th>\n",
       "      <th>nb_dslash<\/th>\n",
       "      <th>http_in_path<\/th>\n",
       "      <th>punycode<\/th>\n",
       "      <th>port<\/th>\n",
       "      <th>tld_in_path<\/th>\n",
       "      <th>tld_in_subdomain<\/th>\n",
       "      <th>abnormal_subdomain<\/th>\n",
       "      <th>...<\/th>\n",
       "      <th>f2<\/th>\n",
       "      <th>f3<\/th>\n",
       "      <th>f4<\/th>\n",
       "      <th>f5<\/th>\n",
       "      <th>f7<\/th>\n",
       "      <th>f9<\/th>\n",
       "      <th>f20<\/th>\n",
       "      <th>f25<\/th>\n",
       "      <th>f26<\/th>\n",
       "      <th>f27<\/th>\n",
       "    <\/tr>\n",
       "  <\/thead>\n",
       "  <tbody>\n",
       "    <tr>\n",
       "      <th>0<\/th>\n",
       "      <td>0<\/td>\n",
       "      <td>1<\/td>\n",
       "      <td>0<\/td>\n",
       "      <td>0<\/td>\n",
       "      <td>0<\/td>\n",
       "      <td>0<\/td>\n",
       "      <td>0<\/td>\n",
       "      <td>0<\/td>\n",
       "      <td>0<\/td>\n",
       "      <td>0<\/td>\n",
       "      <td>...<\/td>\n",
       "      <td>19<\/td>\n",
       "      <td>0<\/td>\n",
       "      <td>0<\/td>\n",
       "      <td>0<\/td>\n",
       "      <td>0<\/td>\n",
       "      <td>0<\/td>\n",
       "      <td>0<\/td>\n",
       "      <td>0<\/td>\n",
       "      <td>0<\/td>\n",
       "      <td>0<\/td>\n",
       "    <\/tr>\n",
       "    <tr>\n",
       "      <th>1<\/th>\n",
       "      <td>1<\/td>\n",
       "      <td>0<\/td>\n",
       "      <td>0<\/td>\n",
       "      <td>0<\/td>\n",
       "      <td>0<\/td>\n",
       "      <td>0<\/td>\n",
       "      <td>0<\/td>\n",
       "      <td>0<\/td>\n",
       "      <td>0<\/td>\n",
       "      <td>0<\/td>\n",
       "      <td>...<\/td>\n",
       "      <td>23<\/td>\n",
       "      <td>0<\/td>\n",
       "      <td>0<\/td>\n",
       "      <td>0<\/td>\n",
       "      <td>0<\/td>\n",
       "      <td>0<\/td>\n",
       "      <td>0<\/td>\n",
       "      <td>0<\/td>\n",
       "      <td>17<\/td>\n",
       "      <td>0<\/td>\n",
       "    <\/tr>\n",
       "    <tr>\n",
       "      <th>2<\/th>\n",
       "      <td>1<\/td>\n",
       "      <td>0<\/td>\n",
       "      <td>1<\/td>\n",
       "      <td>0<\/td>\n",
       "      <td>0<\/td>\n",
       "      <td>0<\/td>\n",
       "      <td>0<\/td>\n",
       "      <td>0<\/td>\n",
       "      <td>1<\/td>\n",
       "      <td>0<\/td>\n",
       "      <td>...<\/td>\n",
       "      <td>50<\/td>\n",
       "      <td>0<\/td>\n",
       "      <td>1<\/td>\n",
       "      <td>0<\/td>\n",
       "      <td>2<\/td>\n",
       "      <td>3<\/td>\n",
       "      <td>0<\/td>\n",
       "      <td>1<\/td>\n",
       "      <td>19<\/td>\n",
       "      <td>0<\/td>\n",
       "    <\/tr>\n",
       "    <tr>\n",
       "      <th>3<\/th>\n",
       "      <td>0<\/td>\n",
       "      <td>0<\/td>\n",
       "      <td>0<\/td>\n",
       "      <td>0<\/td>\n",
       "      <td>0<\/td>\n",
       "      <td>0<\/td>\n",
       "      <td>0<\/td>\n",
       "      <td>0<\/td>\n",
       "      <td>0<\/td>\n",
       "      <td>0<\/td>\n",
       "      <td>...<\/td>\n",
       "      <td>11<\/td>\n",
       "      <td>0<\/td>\n",
       "      <td>0<\/td>\n",
       "      <td>0<\/td>\n",
       "      <td>0<\/td>\n",
       "      <td>0<\/td>\n",
       "      <td>0<\/td>\n",
       "      <td>0<\/td>\n",
       "      <td>0<\/td>\n",
       "      <td>0<\/td>\n",
       "    <\/tr>\n",
       "    <tr>\n",
       "      <th>4<\/th>\n",
       "      <td>0<\/td>\n",
       "      <td>1<\/td>\n",
       "      <td>0<\/td>\n",
       "      <td>0<\/td>\n",
       "      <td>0<\/td>\n",
       "      <td>0<\/td>\n",
       "      <td>0<\/td>\n",
       "      <td>0<\/td>\n",
       "      <td>0<\/td>\n",
       "      <td>0<\/td>\n",
       "      <td>...<\/td>\n",
       "      <td>15<\/td>\n",
       "      <td>0<\/td>\n",
       "      <td>2<\/td>\n",
       "      <td>0<\/td>\n",
       "      <td>0<\/td>\n",
       "      <td>0<\/td>\n",
       "      <td>0<\/td>\n",
       "      <td>0<\/td>\n",
       "      <td>0<\/td>\n",
       "      <td>0<\/td>\n",
       "    <\/tr>\n",
       "  <\/tbody>\n",
       "<\/table>\n",
       "<p>5 rows × 64 columns<\/p>\n",
       "<\/div>"
      ]
     },
     "metadata":{
      
     },
     "output_type":"display_data"
    }
   ],
   "metadata":{
    "datalore":{
     "node_id":"t2YAMBIogSlVXbQom3Qgoy",
     "type":"CODE",
     "hide_input_from_viewers":false,
     "hide_output_from_viewers":false,
     "report_properties":{
      
     }
    }
   }
  },
  {
   "cell_type":"code",
   "source":[
    "x_train, x_test, \\\n",
    "    y_train, y_test = train_test_split(feature_matrix, target, test_size=0.3, random_state=42)\n",
    "\n",
    "x_validation, x_train, \\\n",
    "    y_validation, y_train = train_test_split(x_train, y_train, test_size=0.7857, random_state=42)"
   ],
   "execution_count":20,
   "outputs":[
    
   ],
   "metadata":{
    "datalore":{
     "node_id":"NECELA6RpR0MNjVZHzQg31",
     "type":"CODE",
     "hide_input_from_viewers":false,
     "hide_output_from_viewers":false,
     "report_properties":{
      
     }
    }
   }
  },
  {
   "cell_type":"code",
   "source":[
    "print(\"Train: \", x_train.shape)\n",
    "print(\"Validation: \", x_validation.shape, )\n",
    "print(\"Test: \", x_test.shape, )\n",
    "print(\"Total: \", df.shape, )"
   ],
   "execution_count":21,
   "outputs":[
    {
     "name":"stdout",
     "text":[
      "Train:  (6287, 64)\n",
      "Validation:  (1714, 64)\n",
      "Test:  (3429, 64)\n",
      "Total:  (11430, 65)\n"
     ],
     "output_type":"stream"
    }
   ],
   "metadata":{
    "datalore":{
     "node_id":"Q9e3FcDfka0eZlXmbuCKNB",
     "type":"CODE",
     "hide_input_from_viewers":false,
     "hide_output_from_viewers":false,
     "report_properties":{
      
     }
    }
   }
  },
  {
   "cell_type":"markdown",
   "source":[
    "### Implementación\n",
    "\n",
    "Utilice dos algoritmos de Machine Learning para entrenar el modelo. Muestre y explique los valores obtenidos de las siguientes métricas para los datos de validación y pruebas, para cada modelo, en base al contexto del problema (detección de Phishing).\n",
    "\n",
    "- Matriz de confusión\n",
    "- Precisión\n",
    "- Recall\n",
    "- F1 Score"
   ],
   "attachments":{
    
   },
   "metadata":{
    "datalore":{
     "node_id":"HIWAWBy6V2buKqIxoBNW4p",
     "type":"MD",
     "hide_input_from_viewers":false,
     "hide_output_from_viewers":false,
     "report_properties":{
      
     }
    }
   }
  },
  {
   "cell_type":"code",
   "source":[
    "# Random Forest\n",
    "rf = RandomForestClassifier(n_estimators=100, max_depth=500, random_state=42, verbose=True)\n",
    "rf.fit(x_train, y_train)\n",
    "y_pred = rf.predict(x_validation)"
   ],
   "execution_count":22,
   "outputs":[
    {
     "name":"stderr",
     "text":[
      "[Parallel(n_jobs=1)]: Using backend SequentialBackend with 1 concurrent workers.\n",
      "[Parallel(n_jobs=1)]: Done 100 out of 100 | elapsed:    0.8s finished\n",
      "[Parallel(n_jobs=1)]: Using backend SequentialBackend with 1 concurrent workers.\n",
      "[Parallel(n_jobs=1)]: Done 100 out of 100 | elapsed:    0.0s finished\n"
     ],
     "output_type":"stream"
    }
   ],
   "metadata":{
    "datalore":{
     "node_id":"t4XLvL0VAH6jj6926wgi3m",
     "type":"CODE",
     "hide_input_from_viewers":false,
     "hide_output_from_viewers":false,
     "report_properties":{
      
     }
    }
   }
  },
  {
   "cell_type":"code",
   "source":[
    "print(\"Accuracy: \", accuracy_score(y_validation, y_pred))"
   ],
   "execution_count":23,
   "outputs":[
    {
     "name":"stdout",
     "text":[
      "Accuracy:  0.9620770128354725\n"
     ],
     "output_type":"stream"
    }
   ],
   "metadata":{
    "datalore":{
     "node_id":"K3RwPrDoNEFAgDwHLLmul7",
     "type":"CODE",
     "hide_input_from_viewers":false,
     "hide_output_from_viewers":false,
     "report_properties":{
      
     }
    }
   }
  },
  {
   "cell_type":"code",
   "source":[
    "ax = sns.heatmap(\n",
    "    confusion_matrix(y_validation, y_pred), \n",
    "    annot=True, \n",
    "    fmt=\"d\", \n",
    "    yticklabels=[\"Legítimo\", \"Phishing\"], \n",
    "    xticklabels=[\"Legítimo\", \"Phishing\"],\n",
    ")\n",
    "ax.set(xlabel=\"Predicción\", ylabel=\"Verdadero Valor\")\n",
    "plt.show()"
   ],
   "execution_count":39,
   "outputs":[
    
   ],
   "metadata":{
    "datalore":{
     "node_id":"Lkxe9r4vNIk89Q8hJSKZlZ",
     "type":"CODE",
     "hide_input_from_viewers":false,
     "hide_output_from_viewers":false,
     "report_properties":{
      
     }
    }
   }
  },
  {
   "cell_type":"markdown",
   "source":[
    "El modelo de *Random Forest* clasificó correctamente 832 sitios de *phishing* como sitios de *phishing* y 817 sitios legítimos. \n",
    "\n",
    "Sin embargo el modelo catalogó erróneamente 30 sitios legítimos como *phishing* y a 35 sitios de *phishing* como sitios legítimos."
   ],
   "attachments":{
    
   },
   "metadata":{
    "datalore":{
     "node_id":"efWQOQJIiF7BeLC0Ip5gmM",
     "type":"MD",
     "hide_input_from_viewers":true,
     "hide_output_from_viewers":true
    }
   }
  },
  {
   "cell_type":"code",
   "source":[
    "print(classification_report(y_validation, y_pred, target_names=[\"phishing\", \"legitimate\"]))"
   ],
   "execution_count":41,
   "outputs":[
    {
     "name":"stdout",
     "text":[
      "              precision    recall  f1-score   support\n",
      "\n",
      "    phishing       0.96      0.96      0.96       847\n",
      "  legitimate       0.97      0.96      0.96       867\n",
      "\n",
      "    accuracy                           0.96      1714\n",
      "   macro avg       0.96      0.96      0.96      1714\n",
      "weighted avg       0.96      0.96      0.96      1714\n",
      "\n"
     ],
     "output_type":"stream"
    }
   ],
   "metadata":{
    "datalore":{
     "node_id":"t9B4EV7QkynvKc8Dm6Xilt",
     "type":"CODE",
     "hide_input_from_viewers":false,
     "hide_output_from_viewers":false,
     "report_properties":{
      
     }
    }
   }
  },
  {
   "cell_type":"code",
   "source":[
    "# Decision Tree\n",
    "dt = DecisionTreeClassifier(max_depth=500,random_state=42)\n",
    "dt.fit(x_train, y_train)\n",
    "y_pred = dt.predict(x_validation)"
   ],
   "execution_count":42,
   "outputs":[
    
   ],
   "metadata":{
    "datalore":{
     "node_id":"mJecaawXy72PErWSKXwHYs",
     "type":"CODE",
     "hide_input_from_viewers":false,
     "hide_output_from_viewers":false,
     "report_properties":{
      
     }
    }
   }
  },
  {
   "cell_type":"code",
   "source":[
    "print(\"Accuracy: \", accuracy_score(y_validation, y_pred))"
   ],
   "execution_count":43,
   "outputs":[
    {
     "name":"stdout",
     "text":[
      "Accuracy:  0.9299883313885647\n"
     ],
     "output_type":"stream"
    }
   ],
   "metadata":{
    "datalore":{
     "node_id":"vfC0k9HOS6l6qJVFuYqPKY",
     "type":"CODE",
     "hide_input_from_viewers":false,
     "hide_output_from_viewers":false,
     "report_properties":{
      
     }
    }
   }
  },
  {
   "cell_type":"code",
   "source":[
    "ax = sns.heatmap(\n",
    "    confusion_matrix(y_validation, y_pred), \n",
    "    annot=True, \n",
    "    fmt=\"d\", \n",
    "    yticklabels=[\"Legítimo\", \"Phishing\"], \n",
    "    xticklabels=[\"Legítimo\", \"Phishing\"],\n",
    ")\n",
    "ax.set(xlabel=\"Predicción\", ylabel=\"Verdadero Valor\")\n",
    "plt.show()"
   ],
   "execution_count":44,
   "outputs":[
    {
     "data":{
      "image\/png":"[encoded data removed]"
     },
     "metadata":{
      "image\/png":{
       
      }
     },
     "output_type":"display_data"
    }
   ],
   "metadata":{
    "datalore":{
     "node_id":"JHaYhO0grVMucCsnLgDgCY",
     "type":"CODE",
     "hide_input_from_viewers":false,
     "hide_output_from_viewers":false,
     "report_properties":{
      
     }
    }
   }
  },
  {
   "cell_type":"markdown",
   "source":[
    "El modelo de *Decision Tree* clasificó correctamente 808 sitios de *phishing* como sitios de *phishing* y a 786 sitios legítimos. \n",
    "\n",
    "Sin embargo el modelo catalogó erróneamente 61 sitios legítimos como *phishing* y a 59 sitios de *phishing* como sitios legítimos."
   ],
   "attachments":{
    
   },
   "metadata":{
    "datalore":{
     "node_id":"fpk3gEDK6RK0uRpgGX7ps5",
     "type":"MD",
     "hide_input_from_viewers":true,
     "hide_output_from_viewers":true
    }
   }
  },
  {
   "cell_type":"code",
   "source":[
    "print(\"Classification Report: \", classification_report(y_validation, y_pred, target_names=[\"phishing\", \"legitimate\"]))"
   ],
   "execution_count":null,
   "outputs":[
    {
     "name":"stdout",
     "text":[
      "Classification Report:                precision    recall  f1-score   support\n",
      "\n",
      "    phishing       0.93      0.93      0.93       867\n",
      "  legitimate       0.93      0.93      0.93       847\n",
      "\n",
      "    accuracy                           0.93      1714\n",
      "   macro avg       0.93      0.93      0.93      1714\n",
      "weighted avg       0.93      0.93      0.93      1714\n",
      "\n"
     ],
     "output_type":"stream"
    }
   ],
   "metadata":{
    "datalore":{
     "node_id":"vni3CVd7wfSQHqarjYpNq6",
     "type":"CODE",
     "hide_input_from_viewers":false,
     "hide_output_from_viewers":false,
     "report_properties":{
      
     }
    }
   }
  },
  {
   "cell_type":"markdown",
   "source":[
    "### Discusión"
   ],
   "attachments":{
    
   },
   "metadata":{
    "datalore":{
     "node_id":"o2Bifh8IUvK5Xr3uEfGaAE",
     "type":"MD",
     "hide_input_from_viewers":false,
     "hide_output_from_viewers":false,
     "report_properties":{
      
     }
    }
   }
  },
  {
   "cell_type":"markdown",
   "source":[
    "**1. ¿Cuál es el impacto de clasificar un sitio legítimo como Phishing?**\n",
    "\n",
    "Clasificar un sitio legítimo como Phishing puede reducir el tráfico hacia dichos sitios. Dependiendo del modelo de negocios del sitio, puede reducir sus ingresos equivocadamente. "
   ],
   "attachments":{
    
   },
   "metadata":{
    "datalore":{
     "node_id":"WCmUQtVSruWkTm8tJYxVPN",
     "type":"MD",
     "hide_input_from_viewers":false,
     "hide_output_from_viewers":false,
     "report_properties":{
      
     }
    }
   }
  },
  {
   "cell_type":"markdown",
   "source":[
    "**2. ¿Cuál es el impacto de clasificar un sitio de Phishing como legítimo?**\n",
    "\n",
    "Clasifica un sitio de Phishing como legítimo puede causar que el agente malicioso obtenga información importante del usuario. En sitios financieros, puede tener fuertes repercusiones económicas."
   ],
   "attachments":{
    
   },
   "metadata":{
    "datalore":{
     "node_id":"hr1knJBpZm8a7o7F8WvOMv",
     "type":"MD",
     "hide_input_from_viewers":false,
     "hide_output_from_viewers":false,
     "report_properties":{
      
     }
    }
   }
  },
  {
   "cell_type":"markdown",
   "source":[
    "**3. En base a las respuestas anteriores, ¿Qué métrica elegiría para comparar modelos similares de clasificación de phishing?**\n",
    "Tomando en cuenta que nuestro modelo detecta sitios de *pishing*, tiene sentido pensar que las personas que serán beneficiadas por nuestro modelo, serán usuarios regulares. Con esa consideración, detectar un sitio legítimo como *phishing* no va a tener fuertes repercusiones en el usuario. Pero, detectar un sitio de *phishing* como legítimo, podría tener fuertes repercusiones para el usuario.\n",
    "\n",
    "De manera qué es mejor usar la métrica de *recall*."
   ],
   "attachments":{
    
   },
   "metadata":{
    "datalore":{
     "node_id":"KYflhWjLSWXg2ey2caaIU3",
     "type":"MD",
     "hide_input_from_viewers":false,
     "hide_output_from_viewers":false,
     "report_properties":{
      
     }
    }
   }
  },
  {
   "cell_type":"markdown",
   "source":[
    "**4. ¿Qué modelo es mejor para la clasificación de Phishing? Justifique**  \n",
    "Independientemente de qué categoría es escogida para comparar modelos (*precision*, *f1-score* o *recall*), el modelo de Random Forest tiene un mejor desempeño. De manera que, el primer modelo es mejor para la clasificación de *phishing*."
   ],
   "attachments":{
    
   },
   "metadata":{
    "datalore":{
     "node_id":"9TpHHj7hk8v5hXTh56tSVr",
     "type":"MD",
     "hide_input_from_viewers":false,
     "hide_output_from_viewers":false,
     "report_properties":{
      
     }
    }
   }
  },
  {
   "cell_type":"markdown",
   "source":[
    "**5. En base a las métricas obtenidas, ¿es necesaria la intervención de una persona humana para tomar la decisión final?**  \n",
    "Siempre será necesaria la intervención de una persona humana para tomar una decisión final. Aún con nuestro mejor modelo, la predicción es de 96%, significa que un 4% de los sitios que el modelo detecten como *phishing* no serán *phishing*. También es necesario considerar que el ambiente web es muy volátil, cambia muy rápidamente. De manera que aunque nuestro modelo funcione ahora, no quiere decir que va a funcionar igual de bien en los próximos años. Igualmente, es posible que los sitios de *phishing* evolucionen para engañar a nuestro modelo predictivo. Por lo que, recomendamos la intervención humana."
   ],
   "attachments":{
    
   },
   "metadata":{
    "datalore":{
     "node_id":"cMfslDyAHGjLX7gRNAHQi7",
     "type":"MD",
     "hide_input_from_viewers":false,
     "hide_output_from_viewers":false,
     "report_properties":{
      
     }
    }
   }
  }
 ],
 "metadata":{
  "kernelspec":{
   "display_name":"Python",
   "language":"python",
   "name":"python"
  },
  "datalore":{
   "version":1,
   "computation_mode":"JUPYTER",
   "package_manager":"pip",
   "base_environment":"default",
   "packages":[
    
   ]
  }
 },
 "nbformat":4,
 "nbformat_minor":4
}